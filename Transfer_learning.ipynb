{
 "cells": [
  {
   "cell_type": "markdown",
   "metadata": {
    "colab_type": "text",
    "id": "1bj0puqDDjlF"
   },
   "source": [
    "**Part 1**"
   ]
  },
  {
   "cell_type": "code",
   "execution_count": 0,
   "metadata": {
    "colab": {},
    "colab_type": "code",
    "id": "TOQS7dwVD9ux"
   },
   "outputs": [],
   "source": [
    "from __future__ import print_function\n",
    "\n",
    "import matplotlib.cm as cm\n",
    "import matplotlib.pyplot as plt\n",
    "import numpy as np\n",
    "import functools, itertools, json, os, re, textwrap\n",
    "import tensorflow as tf\n",
    "\n",
    "from PIL import Image, ImageDraw\n",
    "from six.moves.urllib import request\n",
    "from xml.dom import minidom"
   ]
  },
  {
   "cell_type": "code",
   "execution_count": 2,
   "metadata": {
    "colab": {
     "base_uri": "https://localhost:8080/",
     "height": 476
    },
    "colab_type": "code",
    "id": "bpMsuoWVEDJw",
    "outputId": "bfdc59b8-3d4b-4c77-bc6c-f0d9c3ca7f4d"
   },
   "outputs": [
    {
     "name": "stdout",
     "output_type": "stream",
     "text": [
      "available: (309)\n",
      "The Eiffel Tower The Great Wall of China The Mona Lisa aircraft carrier airplane alarm clock\n",
      "ambulance angel animal migration ant anvil apple arm asparagus axe backpack banana bandage barn\n",
      "baseball bat baseball basket basketball bat bathtub beach bear beard bed bee belt bench bicycle\n",
      "binoculars bird birthday cake blackberry blueberry book boomerang bottlecap bowtie bracelet brain\n",
      "bread bridge broccoli broom bucket bulldozer bus bush butterfly cactus cake calculator calendar\n",
      "camel camera camouflage campfire candle cannon canoe car carrot castle cat ceiling fan cell phone\n",
      "cello chair chandelier church circle clarinet clock cloud coffee cup compass computer cookie cooler\n",
      "couch cow crab crayon crocodile crown cruise ship cup diamond dishwasher diving board dog dolphin\n",
      "donut door dragon dresser drill drums duck dumbbell ear elbow elephant envelope eraser eye\n",
      "eyeglasses face fan feather fence finger fire hydrant fireplace firetruck fish flamingo flashlight\n",
      "flip flops floor lamp flower flying saucer foot fork frog frying pan garden hose garden giraffe\n",
      "goatee golf club grapes grass guitar hamburger hammer hand harp hat headphones hedgehog helicopter\n",
      "helmet hexagon hockey puck hockey stick horse hospital hot air balloon hot dog hot tub hourglass\n",
      "house plant house hurricane ice cream jacket jail kangaroo key keyboard knee knife ladder lantern\n",
      "laptop leaf leg light bulb lighter lighthouse lightning line lion lipstick lobster lollipop mailbox\n",
      "map marker matches megaphone mermaid microphone microwave monkey moon mosquito motorbike mountain\n",
      "mouse moustache mouth mug mushroom nail necklace nose ocean octagon octopus onion oven owl paint can\n",
      "paintbrush palm tree panda pants paper clip parachute parrot passport peanut pear peas pencil\n",
      "penguin piano pickup truck picture frame pig pillow pineapple pizza pliers police car pond pool\n",
      "popsicle postcard potato power outlet purse rabbit raccoon radio rain rainbow rake remote control\n",
      "rhinoceros rifle river roller coaster rollerskates sailboat sandwich saw saxophone school bus\n",
      "scissors scorpion screwdriver sea turtle see saw shark sheep shoe shorts shovel sink skateboard\n",
      "skull skyscraper sleeping bag smiley face snail snake snorkel snowflake snowman soccer ball sock\n",
      "speedboat spider spoon spreadsheet square squiggle squirrel stairs star steak stereo stethoscope\n",
      "stitches stop sign stove strawberry streetlight string bean submarine suitcase sun swan sweater\n",
      "swing set sword syringe t-shirt table teapot teddy-bear telephone\n"
     ]
    }
   ],
   "source": [
    "# Retrieve list of classes.\n",
    "\n",
    "def list_bucket(bucket, regexp='.*'):\n",
    "    \"\"\"Returns a (filtered) list of Keys in specified GCE bucket.\"\"\"\n",
    "    keys = []\n",
    "    fh = request.urlopen('https://storage.googleapis.com/%s' % bucket)\n",
    "    content = minidom.parseString(fh.read())\n",
    "    for e in content.getElementsByTagName('Contents'):\n",
    "        key = e.getElementsByTagName('Key')[0].firstChild.data\n",
    "        if re.match(regexp, key):\n",
    "            keys.append(key)\n",
    "    return keys\n",
    "\n",
    "all_ndjsons = list_bucket('quickdraw_dataset', '.*ndjson$')\n",
    "print('available: (%d)' % len(all_ndjsons))\n",
    "print('\\n'.join(textwrap.wrap(\n",
    "    ' '.join([key.split('/')[-1].split('.')[0] for key in all_ndjsons]),\n",
    "    width=100)))"
   ]
  },
  {
   "cell_type": "markdown",
   "metadata": {
    "colab_type": "text",
    "id": "9EdUefcODthY"
   },
   "source": [
    "Stroing the data in the default root directory of google drive"
   ]
  },
  {
   "cell_type": "code",
   "execution_count": 0,
   "metadata": {
    "colab": {},
    "colab_type": "code",
    "id": "0ZsE8WquEIDE"
   },
   "outputs": [],
   "source": [
    "# Store all data locally in this directory.\n",
    "data_path = '/root'\n",
    "if not os.path.exists(data_path): \n",
    "  os.mkdir(data_path)\n",
    "\n",
    "# Mini group of two animals.\n",
    "pets = ['cat', 'dog']\n",
    "\n",
    "# Somewhat larger group of zoo animals.\n",
    "zoo = ['elephant', 'giraffe', 'kangaroo', 'lion', 'monkey', 'panda',\n",
    "       'penguin', 'rhinoceros', 'tiger', 'zebra']\n",
    "\n",
    "# Even larger group of all animals.\n",
    "animals = ['bat', 'bird', 'butterfly', 'camel', 'cat', 'cow', 'crab',\n",
    "           'crocodile', 'dog', 'dolphin', 'duck', 'elephant', 'fish',\n",
    "           'frog', 'giraffe', 'hedgehog', 'horse', 'kangaroo', 'lion',\n",
    "           'lobster', 'monkey', 'mosquito', 'mouse', 'octopus', 'owl',\n",
    "           'panda', 'parrot', 'penguin', 'pig', 'rabbit', 'raccoon',\n",
    "           'rhinoceros', 'scorpion', 'sea turtle', 'shark', 'sheep',\n",
    "           'snail', 'spider', 'squirrel', 'teddy-bear', 'tiger',\n",
    "           'whale', 'zebra']\n",
    "\n",
    "# Create your own group -- the more classes you include the more challenging\n",
    "# the classification task will be...\n",
    "\n",
    "# Choose one of the above groups.\n",
    "# Note: This will result in ~100MB of download per class.\n",
    "classes, classes_name = zoo, 'zoo'"
   ]
  },
  {
   "cell_type": "code",
   "execution_count": 4,
   "metadata": {
    "colab": {
     "base_uri": "https://localhost:8080/",
     "height": 255
    },
    "colab_type": "code",
    "id": "6hVYTqT0EPSQ",
    "outputId": "8c8e4dae-c390-47b0-c7ef-3c7d48f7c56c"
   },
   "outputs": [
    {
     "name": "stdout",
     "output_type": "stream",
     "text": [
      "\n",
      "10 classes:\n",
      "elephant 70.86 MB\n",
      "giraffe 58.27 MB\n",
      "kangaroo 96.06 MB\n",
      "lion 90.47 MB\n",
      "monkey 91.05 MB\n",
      "panda 97.04 MB\n",
      "penguin 137.90 MB\n",
      "rhinoceros 92.20 MB\n",
      "tiger 86.09 MB\n",
      "zebra 92.10 MB\n",
      "\n",
      "DONE :)\n"
     ]
    }
   ],
   "source": [
    "def valid_ndjson(filename):\n",
    "    \"\"\"Checks presence + completeness of .ndjson file.\"\"\"\n",
    "    try:\n",
    "        json.loads(open(filename).readlines()[-1])\n",
    "        return True\n",
    "    except (ValueError, IOError):\n",
    "        return False\n",
    "\n",
    "def retrieve(bucket, key, filename):\n",
    "    \"\"\"Returns a file specified by its Key from a GCE bucket.\"\"\"\n",
    "    url = 'https://storage.googleapis.com/%s/%s' % (bucket, key)\n",
    "    if not os.path.isfile(filename):\n",
    "        request.urlretrieve(url=url, filename=filename)\n",
    "    while not valid_ndjson(filename):\n",
    "        print('*** Corrupted download (%.2f MB), retrying...' % (os.path.getsize(filename) / 2.**20))\n",
    "        request.urlretrieve(url=url, filename=filename)\n",
    "\n",
    "if not os.path.exists(data_path):\n",
    "    os.mkdir(data_path)\n",
    "\n",
    "print('\\n%d classes:' % len(classes))\n",
    "\n",
    "for name in classes:\n",
    "    print(name, end=' ')\n",
    "    dst = '%s/%s.ndjson' % (data_path, name)\n",
    "    retrieve('quickdraw_dataset', 'full/simplified/%s.ndjson' % name, dst)\n",
    "    print('%.2f MB' % (os.path.getsize(dst) / 2.**20))\n",
    "\n",
    "print('\\nDONE :)')"
   ]
  },
  {
   "cell_type": "code",
   "execution_count": 5,
   "metadata": {
    "colab": {
     "base_uri": "https://localhost:8080/",
     "height": 238
    },
    "colab_type": "code",
    "id": "d-5fDS4xE0xG",
    "outputId": "f47d18e3-c4ab-4551-b211-47ba64de88a8"
   },
   "outputs": [
    {
     "name": "stdout",
     "output_type": "stream",
     "text": [
      "total 1.2G\n",
      "-rw-r--r-- 1 root   root  71M Nov 18 04:04 elephant.ndjson\n",
      "drwxr-x--- 7 270850 5000 4.0K Feb 10  2016 flower_photos\n",
      "-rw-r--r-- 1 root   root 219M Nov 18 03:50 flower_photos.tgz\n",
      "-rw-r--r-- 1 root   root  59M Nov 18 04:04 giraffe.ndjson\n",
      "-rw-r--r-- 1 root   root  97M Nov 18 04:04 kangaroo.ndjson\n",
      "-rw-r--r-- 1 root   root  91M Nov 18 04:04 lion.ndjson\n",
      "-rw-r--r-- 1 root   root  92M Nov 18 04:04 monkey.ndjson\n",
      "-rw-r--r-- 1 root   root  98M Nov 18 04:04 panda.ndjson\n",
      "-rw-r--r-- 1 root   root 138M Nov 18 04:04 penguin.ndjson\n",
      "-rw-r--r-- 1 root   root  93M Nov 18 04:04 rhinoceros.ndjson\n",
      "-rw-r--r-- 1 root   root  87M Nov 18 04:04 tiger.ndjson\n",
      "-rw-r--r-- 1 root   root  93M Nov 18 04:04 zebra.ndjson\n"
     ]
    }
   ],
   "source": [
    "!ls -lh $data_path"
   ]
  },
  {
   "cell_type": "code",
   "execution_count": 6,
   "metadata": {
    "colab": {
     "base_uri": "https://localhost:8080/",
     "height": 71
    },
    "colab_type": "code",
    "id": "IsO2JzmxFIZA",
    "outputId": "3682f88d-39dc-4879-e7d1-e189357019d2"
   },
   "outputs": [
    {
     "name": "stdout",
     "output_type": "stream",
     "text": [
      "{\"word\":\"giraffe\",\"countrycode\":\"BR\",\"timestamp\":\"2017-01-26 17:23:19.3785 UTC\",\"recognized\":true,\"key_id\":\"5807561943023616\",\"drawing\":[[[25,9,0,1,13,35],[32,46,59,65,67,47]],[[64,47,36,25,25,41,53,66,69],[14,15,21,37,42,56,59,41,24]],[[20,39],[8,23]],[[51,52],[0,11]],[[56,46,46,55],[55,91,127,183]],[[74,70,73],[58,95,172]],[[53,79,100,126,149,150,138,131,96,47,39,40],[187,178,174,173,178,190,203,207,215,203,190,182]],[[54,36,22],[204,228,253]],[[73,49],[220,255]],[[118,119,132],[205,223,252]],[[142,143,159],[195,206,238]],[[143,161,165,169,166],[181,168,169,200,214]]]}\n",
      "{\"word\":\"giraffe\",\"countrycode\":\"FR\",\"timestamp\":\"2017-01-29 13:59:05.33086 UTC\",\"recognized\":true,\"key_id\":\"5747753718120448\",\"drawing\":[[[34,35,45,59,65,67,69,74,79,81,79,81,88,96,99,99,103,101,104,121,129,127,137,151,158,166,163,155,177,198,191,161,115,82,65,56,53,56],[101,249,246,231,218,184,179,179,181,186,220,244,245,230,215,183,199,225,249,255,251,187,203,242,246,225,207,186,148,132,129,133,117,98,85,71,54,20]],...\n"
     ]
    }
   ],
   "source": [
    "# What is the NDJSON file format?\n",
    "# Seems to be one JSON dictionary per line...\n",
    "path = sorted(tf.gfile.Glob(os.path.join(data_path, '*.ndjson')))[1]\n",
    "print(open(path).read()[:1000] + '...')"
   ]
  },
  {
   "cell_type": "code",
   "execution_count": 7,
   "metadata": {
    "colab": {
     "base_uri": "https://localhost:8080/",
     "height": 34
    },
    "colab_type": "code",
    "id": "sdaxel1eFMQm",
    "outputId": "ff9231fe-0cf0-4020-c4fe-0355868ee047"
   },
   "outputs": [
    {
     "data": {
      "text/plain": [
       "[u'word', u'countrycode', u'timestamp', u'recognized', u'key_id', u'drawing']"
      ]
     },
     "execution_count": 7,
     "metadata": {
      "tags": []
     },
     "output_type": "execute_result"
    }
   ],
   "source": [
    "# Parse single line.\n",
    "data_json = json.loads(open(path).readline())\n",
    "data_json.keys()"
   ]
  },
  {
   "cell_type": "code",
   "execution_count": 8,
   "metadata": {
    "colab": {
     "base_uri": "https://localhost:8080/",
     "height": 102
    },
    "colab_type": "code",
    "id": "WDSdcZv1FPUU",
    "outputId": "f99357fe-bc57-4dc1-a166-6b8a111df2c2"
   },
   "outputs": [
    {
     "name": "stdout",
     "output_type": "stream",
     "text": [
      "                word   ->   giraffe\n",
      "         countrycode   ->   BR\n",
      "           timestamp   ->   2017-01-26 17:23:19.3785 UTC\n",
      "          recognized   ->   True\n",
      "              key_id   ->   5807561943023616\n"
     ]
    }
   ],
   "source": [
    "# So we have some meta information...\n",
    "for k, v in data_json.items():\n",
    "    if k != 'drawing':\n",
    "        print('%20s   ->   %s' % (k, v))"
   ]
  },
  {
   "cell_type": "code",
   "execution_count": 9,
   "metadata": {
    "colab": {
     "base_uri": "https://localhost:8080/",
     "height": 221
    },
    "colab_type": "code",
    "id": "FNemg9bfFSBD",
    "outputId": "576e76d0-e78f-411d-c2a0-4165e3b2fed4"
   },
   "outputs": [
    {
     "data": {
      "text/plain": [
       "[(2, 6),\n",
       " (2, 9),\n",
       " (2, 2),\n",
       " (2, 2),\n",
       " (2, 4),\n",
       " (2, 3),\n",
       " (2, 12),\n",
       " (2, 3),\n",
       " (2, 2),\n",
       " (2, 3),\n",
       " (2, 3),\n",
       " (2, 5)]"
      ]
     },
     "execution_count": 9,
     "metadata": {
      "tags": []
     },
     "output_type": "execute_result"
    }
   ],
   "source": [
    "# ...and the actual drawing.\n",
    "drawing = data_json['drawing']\n",
    "# The drawing consists of a series of strokes:\n",
    "[np.array(stroke).shape for stroke in drawing]"
   ]
  },
  {
   "cell_type": "code",
   "execution_count": 10,
   "metadata": {
    "colab": {
     "base_uri": "https://localhost:8080/",
     "height": 347
    },
    "colab_type": "code",
    "id": "q4B6_rziFUQd",
    "outputId": "db3b8eb5-9f0d-4fc5-942b-a8c019b5ee43"
   },
   "outputs": [
    {
     "data": {
      "image/png": "[encoded data removed]",
      "text/plain": [
       "<matplotlib.figure.Figure at 0x7f74363ea090>"
      ]
     },
     "metadata": {
      "tags": []
     },
     "output_type": "display_data"
    }
   ],
   "source": [
    "# Draw the image -- the strokes all have have shape (2, n)\n",
    "# so the first index seems to be x/y coordinate:\n",
    "\n",
    "def draw_strokes(drawing):\n",
    "  # Use a different color for each stroke\n",
    "  colors = cm.rainbow(np.linspace(0, 1, len(drawing)))\n",
    "  plt.axis('off')\n",
    "  for stroke, c in zip(drawing, colors):\n",
    "    #print(stroke[0], stroke[1])\n",
    "    plt.plot(np.array(stroke[0]), -1 * np.array(stroke[1]), color=c)\n",
    "    \n",
    "draw_strokes(drawing)"
   ]
  },
  {
   "cell_type": "code",
   "execution_count": 11,
   "metadata": {
    "colab": {
     "base_uri": "https://localhost:8080/",
     "height": 34
    },
    "colab_type": "code",
    "id": "9T1IPloAFWdq",
    "outputId": "95d08e42-67fa-4493-edf4-81c6e6355231"
   },
   "outputs": [
    {
     "name": "stdout",
     "output_type": "stream",
     "text": [
      "loading some \"elephant\"...\n"
     ]
    }
   ],
   "source": [
    "# Some more code to load many sketches at once.\n",
    "# Let's ignore the difficult \"unrecognized\" sketches for now...\n",
    "# (i.e. unrecognized by the official quickdraw classifier)\n",
    "\n",
    "def convert(line):\n",
    "    \"\"\"Converts single line to JSON + converts 'drawing' to list of np.array.\"\"\"\n",
    "    d = json.loads(line)\n",
    "    d['drawing'] = [np.array(stroke) for stroke in d['drawing']]\n",
    "    return d\n",
    "\n",
    "def loaditer(name, unrecognized=False):\n",
    "    \"\"\"Returns iterable of drawings in specified file.\n",
    "\n",
    "    Args:\n",
    "      name: Name of the downloaded object (e.g. \"elephant\").\n",
    "      unrecognized: Whether to include drawings that were not recognized\n",
    "          by Google AI (i.e. the hard ones).\n",
    "    \"\"\"\n",
    "    for line in open('%s/%s.ndjson' % (data_path, name)):\n",
    "        d = convert(line)\n",
    "        if d['recognized'] or unrecognized:\n",
    "            yield d\n",
    "\n",
    "def loadn(name, n, unrecognized=False):\n",
    "    \"\"\"Returns list of drawings.\n",
    "\n",
    "    Args:\n",
    "      name: Name of the downloaded object (e.g. \"elephant\").\n",
    "      n: Number of drawings to load.\n",
    "      unrecognized: Whether to include drawings that were not recognized\n",
    "          by Google AI (i.e. the hard ones).\n",
    "    \"\"\"\n",
    "    it = loaditer(name, unrecognized=unrecognized)\n",
    "    return list(itertools.islice(it, 0, n))\n",
    "\n",
    "print('loading some \"%s\"...' % classes[0])\n",
    "sample = loadn(classes[0], 100)"
   ]
  },
  {
   "cell_type": "code",
   "execution_count": 12,
   "metadata": {
    "colab": {
     "base_uri": "https://localhost:8080/",
     "height": 238
    },
    "colab_type": "code",
    "id": "EyVAfYSWFZfn",
    "outputId": "c786a3e7-8465-438f-b221-bbdace4ef016"
   },
   "outputs": [
    {
     "data": {
      "text/plain": [
       "{u'countrycode': u'RO',\n",
       " u'drawing': [array([[  0,   0,   6,  29,  46,  66,  75,  89, 110, 122, 143, 168, 196,\n",
       "          210, 233, 242, 255, 255, 248, 220, 212, 211, 198, 195, 191, 190,\n",
       "          185, 176, 169, 168, 173, 168, 151, 147, 144, 154, 151, 127, 111,\n",
       "          107, 106,  94,  90,  87,  97,  82,  60],\n",
       "         [113,  98,  79,  36,  14,   0,   0,   6,  44,  54,  55,  45,  45,\n",
       "           40,  39,  51,  76, 100, 109, 122, 148, 173, 180, 180, 172, 147,\n",
       "          128, 128, 142, 154, 176, 181, 181, 179, 172, 128, 124, 120, 127,\n",
       "          134, 169, 169, 166, 156, 121, 117, 118]])],\n",
       " u'key_id': u'4916532524089344',\n",
       " u'recognized': True,\n",
       " u'timestamp': u'2017-01-31 11:22:07.29568 UTC',\n",
       " u'word': u'elephant'}"
      ]
     },
     "execution_count": 12,
     "metadata": {
      "tags": []
     },
     "output_type": "execute_result"
    }
   ],
   "source": [
    "sample[0]"
   ]
  },
  {
   "cell_type": "code",
   "execution_count": 13,
   "metadata": {
    "colab": {
     "base_uri": "https://localhost:8080/",
     "height": 592
    },
    "colab_type": "code",
    "id": "PII2RKsDFfJL",
    "outputId": "34fe00e0-7eec-46dc-ca44-25ef95e0762b"
   },
   "outputs": [
    {
     "data": {
      "image/png": "[encoded data removed]",
      "text/plain": [
       "<matplotlib.figure.Figure at 0x7f74453f9e90>"
      ]
     },
     "metadata": {
      "tags": []
     },
     "output_type": "display_data"
    }
   ],
   "source": [
    "plt.figure(figsize=(10, 10))\n",
    "n = 3\n",
    "for x in range(n):\n",
    "    for y in range(n):\n",
    "        i = x * n + y\n",
    "        plt.subplot(n, n, i + 1)\n",
    "        drawing = sample[i]['drawing']\n",
    "        draw_strokes(drawing)\n",
    "        \n",
    "# Elephants!"
   ]
  },
  {
   "cell_type": "code",
   "execution_count": 14,
   "metadata": {
    "colab": {
     "base_uri": "https://localhost:8080/",
     "height": 187
    },
    "colab_type": "code",
    "id": "BlNz94JuFjyM",
    "outputId": "19e2b6cd-d12b-4526-e5b3-5690d206b189"
   },
   "outputs": [
    {
     "name": "stdout",
     "output_type": "stream",
     "text": [
      "elephant 126969 recognized 104986\n",
      "giraffe 127182 recognized 122396\n",
      "kangaroo 174470 recognized 152511\n",
      "lion 120949 recognized 98976\n",
      "monkey 127633 recognized 105650\n",
      "panda 113613 recognized 94814\n",
      "penguin 253791 recognized 231826\n",
      "rhinoceros 188484 recognized 166539\n",
      "tiger 121067 recognized 110177\n",
      "zebra 144608 recognized 127159\n"
     ]
    }
   ],
   "source": [
    "# Let's first check how many [recognized=True] examples we have in each class.\n",
    "# Depending on your choice of classes you could generate >200k examples / class...\n",
    "for name in classes:\n",
    "    print(name, len(list(open('%s/%s.ndjson' % (data_path, name)))), 'recognized', len(list(loaditer(name))))"
   ]
  },
  {
   "cell_type": "code",
   "execution_count": 0,
   "metadata": {
    "colab": {},
    "colab_type": "code",
    "id": "4BCl7HGzFmTs"
   },
   "outputs": [],
   "source": [
    "def json_to_img(drawing, img_sz=64, lw=3, maximize=True):\n",
    "    img = Image.new('L', (img_sz, img_sz))\n",
    "    draw = ImageDraw.Draw(img)\n",
    "    lines = np.array([\n",
    "        stroke[0:2, i:i+2]\n",
    "        for stroke in drawing\n",
    "        for i in range(stroke.shape[1] - 1)\n",
    "    ], dtype=np.float32)\n",
    "    if maximize:\n",
    "        for i in range(2):\n",
    "            min_, max_ = lines[:,i,:].min() * 0.95, lines[:,i,:].max() * 1.05\n",
    "            lines[:,i,:] = (lines[:,i,:] - min_) / max(max_ - min_, 1)\n",
    "    else:\n",
    "        lines /= 1024\n",
    "    for line in lines:\n",
    "        draw.line(tuple(line.T.reshape((-1,)) * img_sz), fill='white', width=lw)\n",
    "    return img"
   ]
  },
  {
   "cell_type": "code",
   "execution_count": 16,
   "metadata": {
    "colab": {
     "base_uri": "https://localhost:8080/",
     "height": 81
    },
    "colab_type": "code",
    "id": "y-z5bokdF-F4",
    "outputId": "0aa32de1-910c-4de9-cbf3-68edb0d06ff0"
   },
   "outputs": [
    {
     "data": {
      "image/png": "[encoded data removed]",
      "text/plain": [
       "<PIL.Image.Image image mode=L size=64x64 at 0x7F7450733810>"
      ]
     },
     "execution_count": 16,
     "metadata": {
      "tags": []
     },
     "output_type": "execute_result"
    }
   ],
   "source": [
    "json_to_img(drawing)"
   ]
  },
  {
   "cell_type": "code",
   "execution_count": 17,
   "metadata": {
    "colab": {
     "base_uri": "https://localhost:8080/",
     "height": 364
    },
    "colab_type": "code",
    "id": "98O6twnjF_4x",
    "outputId": "648e84ec-9d3f-4db4-e85c-b81b0367abaf"
   },
   "outputs": [
    {
     "name": "stdout",
     "output_type": "stream",
     "text": [
      "monkey\n"
     ]
    },
    {
     "data": {
      "image/png": "[encoded data removed]",
      "text/plain": [
       "<matplotlib.figure.Figure at 0x7f7450711690>"
      ]
     },
     "metadata": {
      "tags": []
     },
     "output_type": "display_data"
    }
   ],
   "source": [
    "# Fetch some images + shuffle order.\n",
    "n_per_class = 10000\n",
    "drawings_matrix = [loadn(name, n_per_class) for name in classes]\n",
    "drawings_list = functools.reduce(lambda x, y: x + y, drawings_matrix, [])\n",
    "np.random.seed(1)\n",
    "drawings_list = np.random.permutation(drawings_list)\n",
    "\n",
    "# Quick test to see how our code works so far\n",
    "draw_strokes(drawings_list[0]['drawing'])\n",
    "print(str(drawings_list[0]['word']))"
   ]
  },
  {
   "cell_type": "code",
   "execution_count": 18,
   "metadata": {
    "colab": {
     "base_uri": "https://localhost:8080/",
     "height": 81
    },
    "colab_type": "code",
    "id": "8XacL2zoGCBV",
    "outputId": "78c3b661-a45e-4e1b-f62a-8f97a8893564"
   },
   "outputs": [
    {
     "data": {
      "image/png": "[encoded data removed]",
      "text/plain": [
       "<PIL.Image.Image image mode=L size=64x64 at 0x7F74453F6CD0>"
      ]
     },
     "execution_count": 18,
     "metadata": {
      "tags": []
     },
     "output_type": "execute_result"
    }
   ],
   "source": [
    "json_to_img(drawings_list[0]['drawing'])"
   ]
  },
  {
   "cell_type": "code",
   "execution_count": 0,
   "metadata": {
    "colab": {},
    "colab_type": "code",
    "id": "FSVDft35GEdP"
   },
   "outputs": [],
   "source": [
    "X, y = [], []\n",
    "for drawing in drawings_list:\n",
    "  X.append(np.array(json_to_img(drawing['drawing'])))\n",
    "  y.append(str(drawing['word']))\n",
    "  \n",
    "dataset_path = 'mini-quickdraw.npz'\n",
    "out = open(dataset_path, 'w')\n",
    "np.savez_compressed(out, X, y, X=X, y=y)"
   ]
  },
  {
   "cell_type": "code",
   "execution_count": 20,
   "metadata": {
    "colab": {
     "base_uri": "https://localhost:8080/",
     "height": 34
    },
    "colab_type": "code",
    "id": "VK6o4nNIGGc1",
    "outputId": "ab29cb20-a0ff-4a89-f537-3c32b185f02d"
   },
   "outputs": [
    {
     "name": "stdout",
     "output_type": "stream",
     "text": [
      "(100000, 64, 64) (100000,)\n"
     ]
    }
   ],
   "source": [
    "# Demonstrate loading\n",
    "loaded = np.load(open(dataset_path))\n",
    "X, y = loaded[\"X\"], loaded[\"y\"]\n",
    "print(X.shape, y.shape)"
   ]
  },
  {
   "cell_type": "code",
   "execution_count": 21,
   "metadata": {
    "colab": {
     "base_uri": "https://localhost:8080/",
     "height": 366
    },
    "colab_type": "code",
    "id": "0mr67N-wG95w",
    "outputId": "b8fde757-6d95-4599-8051-6745ec267911"
   },
   "outputs": [
    {
     "name": "stdout",
     "output_type": "stream",
     "text": [
      "monkey\n"
     ]
    },
    {
     "data": {
      "image/png": "[encoded data removed]",
      "text/plain": [
       "<matplotlib.figure.Figure at 0x7f74453ecc90>"
      ]
     },
     "metadata": {
      "tags": []
     },
     "output_type": "display_data"
    }
   ],
   "source": [
    "plt.imshow(X[4])\n",
    "print(y[0])"
   ]
  },
  {
   "cell_type": "code",
   "execution_count": 22,
   "metadata": {
    "colab": {
     "base_uri": "https://localhost:8080/",
     "height": 34
    },
    "colab_type": "code",
    "id": "jMfKV5rksbbu",
    "outputId": "9d753af1-3af6-459a-8a06-259574e746b6"
   },
   "outputs": [
    {
     "data": {
      "text/plain": [
       "(100000,)"
      ]
     },
     "execution_count": 22,
     "metadata": {
      "tags": []
     },
     "output_type": "execute_result"
    }
   ],
   "source": [
    "y.shape"
   ]
  },
  {
   "cell_type": "markdown",
   "metadata": {
    "colab_type": "text",
    "id": "XPcihYWuD3UZ"
   },
   "source": [
    "Reshaping the input examples into 4 dimnensions to fit into the Convolutional network"
   ]
  },
  {
   "cell_type": "code",
   "execution_count": 0,
   "metadata": {
    "colab": {},
    "colab_type": "code",
    "id": "ZBNj1sR4e_jq"
   },
   "outputs": [],
   "source": [
    "reshape_x = np.reshape(X, (-1,64,64,1))"
   ]
  },
  {
   "cell_type": "code",
   "execution_count": 24,
   "metadata": {
    "colab": {
     "base_uri": "https://localhost:8080/",
     "height": 34
    },
    "colab_type": "code",
    "id": "gHcsoti9fJIp",
    "outputId": "8c0ab628-1716-4b45-8b27-49db932e72ec"
   },
   "outputs": [
    {
     "data": {
      "text/plain": [
       "(100000, 64, 64, 1)"
      ]
     },
     "execution_count": 24,
     "metadata": {
      "tags": []
     },
     "output_type": "execute_result"
    }
   ],
   "source": [
    "reshape_x.shape"
   ]
  },
  {
   "cell_type": "code",
   "execution_count": 25,
   "metadata": {
    "colab": {
     "base_uri": "https://localhost:8080/",
     "height": 34
    },
    "colab_type": "code",
    "id": "1g2FpMwYqshn",
    "outputId": "55074700-83df-40ca-b512-62d4f7e6e92c"
   },
   "outputs": [
    {
     "data": {
      "text/plain": [
       "numpy.string_"
      ]
     },
     "execution_count": 25,
     "metadata": {
      "tags": []
     },
     "output_type": "execute_result"
    }
   ],
   "source": [
    "type(y[0])"
   ]
  },
  {
   "cell_type": "markdown",
   "metadata": {
    "colab_type": "text",
    "id": "608jMVaKD_qF"
   },
   "source": [
    "Converting the string labels into categorical values using keras.utils"
   ]
  },
  {
   "cell_type": "code",
   "execution_count": 0,
   "metadata": {
    "colab": {},
    "colab_type": "code",
    "id": "GQGSUYnhr_Bs"
   },
   "outputs": [],
   "source": [
    "from sklearn.preprocessing import LabelEncoder\n",
    "encoder = LabelEncoder()"
   ]
  },
  {
   "cell_type": "code",
   "execution_count": 0,
   "metadata": {
    "colab": {},
    "colab_type": "code",
    "id": "hSsmrNNosJKF"
   },
   "outputs": [],
   "source": [
    "encoder.fit(y)\n",
    "encoded_Y = encoder.transform(y)"
   ]
  },
  {
   "cell_type": "code",
   "execution_count": 28,
   "metadata": {
    "colab": {
     "base_uri": "https://localhost:8080/",
     "height": 34
    },
    "colab_type": "code",
    "id": "WculjoxXpnHC",
    "outputId": "cfa0eb0e-677f-4216-c4de-acd231eaa9f8"
   },
   "outputs": [
    {
     "name": "stderr",
     "output_type": "stream",
     "text": [
      "Using TensorFlow backend.\n"
     ]
    }
   ],
   "source": [
    "from keras.utils import to_categorical\n",
    "converted_labels = to_categorical(encoded_Y, num_classes=10, dtype='float32')"
   ]
  },
  {
   "cell_type": "code",
   "execution_count": 29,
   "metadata": {
    "colab": {
     "base_uri": "https://localhost:8080/",
     "height": 34
    },
    "colab_type": "code",
    "id": "R8TgYsE4sUrj",
    "outputId": "d505ce0b-dbb0-4e10-9fe9-f3183a68d403"
   },
   "outputs": [
    {
     "data": {
      "text/plain": [
       "(100000, 10)"
      ]
     },
     "execution_count": 29,
     "metadata": {
      "tags": []
     },
     "output_type": "execute_result"
    }
   ],
   "source": [
    "converted_labels.shape"
   ]
  },
  {
   "cell_type": "code",
   "execution_count": 0,
   "metadata": {
    "colab": {},
    "colab_type": "code",
    "id": "fEuKHUBaHE_b"
   },
   "outputs": [],
   "source": [
    "# Importing the Keras libraries and packages\n",
    "from keras.models import Sequential\n",
    "from keras.layers import Conv2D\n",
    "from keras.layers import MaxPooling2D\n",
    "from keras.layers import Flatten\n",
    "from keras.layers import Dense\n",
    "from sklearn.model_selection import StratifiedShuffleSplit    \n"
   ]
  },
  {
   "cell_type": "markdown",
   "metadata": {
    "colab_type": "text",
    "id": "9Bkf3COSEWTp"
   },
   "source": [
    "Adding conv2D and dense layers"
   ]
  },
  {
   "cell_type": "code",
   "execution_count": 0,
   "metadata": {
    "colab": {},
    "colab_type": "code",
    "id": "CjrSIi_pHIet"
   },
   "outputs": [],
   "source": [
    "classifier = Sequential()\n",
    "classifier.add(Conv2D(32, (3, 3), input_shape = (64, 64, 1), activation = 'relu'))"
   ]
  },
  {
   "cell_type": "code",
   "execution_count": 0,
   "metadata": {
    "colab": {},
    "colab_type": "code",
    "id": "l1laCI1pKULI"
   },
   "outputs": [],
   "source": [
    "classifier.add(MaxPooling2D(pool_size = (2, 2)))\n"
   ]
  },
  {
   "cell_type": "code",
   "execution_count": 0,
   "metadata": {
    "colab": {},
    "colab_type": "code",
    "id": "4CiEbV9rKVwf"
   },
   "outputs": [],
   "source": [
    "classifier.add(Flatten())\n"
   ]
  },
  {
   "cell_type": "code",
   "execution_count": 0,
   "metadata": {
    "colab": {},
    "colab_type": "code",
    "id": "Hjs7TNaBKXTd"
   },
   "outputs": [],
   "source": [
    "classifier.add(Dense(units = 128, activation = 'relu'))\n"
   ]
  },
  {
   "cell_type": "code",
   "execution_count": 0,
   "metadata": {
    "colab": {},
    "colab_type": "code",
    "id": "ZNdC_SYOKY2W"
   },
   "outputs": [],
   "source": [
    "classifier.add(Dense(units = 10, activation = 'sigmoid'))\n"
   ]
  },
  {
   "cell_type": "code",
   "execution_count": 0,
   "metadata": {
    "colab": {},
    "colab_type": "code",
    "id": "RuInFdhjKbgf"
   },
   "outputs": [],
   "source": [
    "classifier.compile(optimizer = 'adam', loss = 'binary_crossentropy', metrics = ['accuracy'])"
   ]
  },
  {
   "cell_type": "code",
   "execution_count": 37,
   "metadata": {
    "colab": {
     "base_uri": "https://localhost:8080/",
     "height": 102
    },
    "colab_type": "code",
    "id": "cvyCdEZoKtI7",
    "outputId": "51f4e9c7-075f-4b6f-b571-2e216e4cf112"
   },
   "outputs": [
    {
     "name": "stderr",
     "output_type": "stream",
     "text": [
      "/usr/local/lib/python2.7/dist-packages/ipykernel_launcher.py:2: DeprecationWarning: `itemfreq` is deprecated!\n",
      "`itemfreq` is deprecated and will be removed in a future version. Use instead `np.unique(..., return_counts=True)`\n",
      "  \n"
     ]
    },
    {
     "data": {
      "text/plain": [
       "array([[0.e+00, 9.e+05],\n",
       "       [1.e+00, 1.e+05]])"
      ]
     },
     "execution_count": 37,
     "metadata": {
      "tags": []
     },
     "output_type": "execute_result"
    }
   ],
   "source": [
    "from scipy import stats\n",
    "stats.itemfreq(converted_labels)"
   ]
  },
  {
   "cell_type": "code",
   "execution_count": 0,
   "metadata": {
    "colab": {},
    "colab_type": "code",
    "id": "KyzRxzAeLMtr"
   },
   "outputs": [],
   "source": [
    "sss = StratifiedShuffleSplit(train_size=80000, n_splits=1, \n",
    "                             test_size=20000, random_state=0)  \n",
    "\n",
    "for train_index, test_index in sss.split(reshape_x, y):\n",
    "    X_train, X_test = reshape_x[train_index], reshape_x[test_index]\n",
    "    y_train, y_test = converted_labels[train_index], converted_labels[test_index]\n"
   ]
  },
  {
   "cell_type": "code",
   "execution_count": 0,
   "metadata": {
    "colab": {},
    "colab_type": "code",
    "id": "KHERqCZXmYBr"
   },
   "outputs": [],
   "source": [
    "from keras.preprocessing.image import ImageDataGenerator\n",
    "\n",
    "datagen = ImageDataGenerator(\n",
    "    featurewise_center=True,\n",
    "    featurewise_std_normalization=True,\n",
    "    rotation_range=20,\n",
    "    width_shift_range=0.2,\n",
    "    height_shift_range=0.2,\n",
    "    horizontal_flip=True)"
   ]
  },
  {
   "cell_type": "code",
   "execution_count": 0,
   "metadata": {
    "colab": {},
    "colab_type": "code",
    "id": "ShmeOHCYmoh1"
   },
   "outputs": [],
   "source": [
    "datagen.fit(X_train)"
   ]
  },
  {
   "cell_type": "code",
   "execution_count": 41,
   "metadata": {
    "colab": {
     "base_uri": "https://localhost:8080/",
     "height": 306
    },
    "colab_type": "code",
    "id": "xzbgmH73o_LO",
    "outputId": "1d33b4f7-63cb-4a1a-cc72-8fe20bbf9443"
   },
   "outputs": [
    {
     "name": "stdout",
     "output_type": "stream",
     "text": [
      "_________________________________________________________________\n",
      "Layer (type)                 Output Shape              Param #   \n",
      "=================================================================\n",
      "conv2d_1 (Conv2D)            (None, 62, 62, 32)        320       \n",
      "_________________________________________________________________\n",
      "max_pooling2d_1 (MaxPooling2 (None, 31, 31, 32)        0         \n",
      "_________________________________________________________________\n",
      "flatten_1 (Flatten)          (None, 30752)             0         \n",
      "_________________________________________________________________\n",
      "dense_1 (Dense)              (None, 128)               3936384   \n",
      "_________________________________________________________________\n",
      "dense_2 (Dense)              (None, 10)                1290      \n",
      "=================================================================\n",
      "Total params: 3,937,994\n",
      "Trainable params: 3,937,994\n",
      "Non-trainable params: 0\n",
      "_________________________________________________________________\n"
     ]
    }
   ],
   "source": [
    "classifier.summary()"
   ]
  },
  {
   "cell_type": "code",
   "execution_count": 42,
   "metadata": {
    "colab": {
     "base_uri": "https://localhost:8080/",
     "height": 204
    },
    "colab_type": "code",
    "id": "BPiq90MdOej1",
    "outputId": "f67a413d-12c9-49d3-c722-d99ad727c534"
   },
   "outputs": [
    {
     "name": "stdout",
     "output_type": "stream",
     "text": [
      "Epoch 1/5\n",
      "200/200 [==============================] - 60s 299ms/step - loss: 0.2960 - acc: 0.8974\n",
      "Epoch 2/5\n",
      "200/200 [==============================] - 62s 308ms/step - loss: 0.2510 - acc: 0.9042\n",
      "Epoch 3/5\n",
      "200/200 [==============================] - 61s 304ms/step - loss: 0.2404 - acc: 0.9060\n",
      "Epoch 4/5\n",
      "200/200 [==============================] - 61s 303ms/step - loss: 0.2281 - acc: 0.9096\n",
      "Epoch 5/5\n",
      "200/200 [==============================] - 59s 295ms/step - loss: 0.2222 - acc: 0.9118\n"
     ]
    },
    {
     "data": {
      "text/plain": [
       "<keras.callbacks.History at 0x7f7425ab0d90>"
      ]
     },
     "execution_count": 42,
     "metadata": {
      "tags": []
     },
     "output_type": "execute_result"
    }
   ],
   "source": [
    "classifier.fit_generator(datagen.flow(X_train, y_train),\n",
    "steps_per_epoch = 200,\n",
    "epochs = 5)"
   ]
  },
  {
   "cell_type": "code",
   "execution_count": 44,
   "metadata": {
    "colab": {
     "base_uri": "https://localhost:8080/",
     "height": 34
    },
    "colab_type": "code",
    "id": "-Z7C32GZPW_c",
    "outputId": "1b6c0d96-fc6e-4f5b-8ed2-55038817ef46"
   },
   "outputs": [
    {
     "name": "stdout",
     "output_type": "stream",
     "text": [
      "20000/20000 [==============================] - 47s 2ms/step\n"
     ]
    }
   ],
   "source": [
    "score = classifier.evaluate(X_test, y_test)"
   ]
  },
  {
   "cell_type": "code",
   "execution_count": 45,
   "metadata": {
    "colab": {
     "base_uri": "https://localhost:8080/",
     "height": 34
    },
    "colab_type": "code",
    "id": "sHU9rG-z4XSS",
    "outputId": "22315c76-f070-4675-f469-1e78242191f5"
   },
   "outputs": [
    {
     "name": "stdout",
     "output_type": "stream",
     "text": [
      "Model Evaluation [2.726290689468384, 0.8260249937057496]\n"
     ]
    }
   ],
   "source": [
    "print(\"Model Evaluation\", score)"
   ]
  },
  {
   "cell_type": "markdown",
   "metadata": {
    "colab_type": "text",
    "id": "8z7hN0M4EczC"
   },
   "source": [
    "### **Part2**"
   ]
  },
  {
   "cell_type": "code",
   "execution_count": 0,
   "metadata": {
    "colab": {},
    "colab_type": "code",
    "id": "dFI2GJTODcXs"
   },
   "outputs": [],
   "source": [
    "from __future__ import print_function\n",
    "\n",
    "import matplotlib.cm as cm\n",
    "import matplotlib.pyplot as plt\n",
    "import numpy as np\n",
    "import functools, itertools, json, os, re, textwrap\n",
    "import tensorflow as tf\n",
    "\n",
    "from PIL import Image, ImageDraw\n",
    "from six.moves.urllib import request\n",
    "from xml.dom import minidom"
   ]
  },
  {
   "cell_type": "code",
   "execution_count": 47,
   "metadata": {
    "colab": {
     "base_uri": "https://localhost:8080/",
     "height": 34
    },
    "colab_type": "code",
    "id": "NAcRtEfbEiND",
    "outputId": "5335d8fe-42d8-4f93-aa3a-5381cc086750"
   },
   "outputs": [
    {
     "name": "stdout",
     "output_type": "stream",
     "text": [
      "/root\n"
     ]
    }
   ],
   "source": [
    "cd ~"
   ]
  },
  {
   "cell_type": "code",
   "execution_count": 48,
   "metadata": {
    "colab": {
     "base_uri": "https://localhost:8080/",
     "height": 85
    },
    "colab_type": "code",
    "id": "MuS2I4t1EkRM",
    "outputId": "aafbfffa-4e72-469d-c381-ef10a08d776c"
   },
   "outputs": [
    {
     "name": "stdout",
     "output_type": "stream",
     "text": [
      "elephant.ndjson    Flowers.zip      \u001b[0m\u001b[01;34m__MACOSX\u001b[0m/       rhinoceros.ndjson\n",
      "\u001b[01;34mflower_photos\u001b[0m/     giraffe.ndjson   monkey.ndjson   tiger.ndjson\n",
      "flower_photos.tgz  kangaroo.ndjson  panda.ndjson    zebra.ndjson\n",
      "\u001b[01;34mFlowers\u001b[0m/           lion.ndjson      penguin.ndjson\n"
     ]
    }
   ],
   "source": [
    "!curl -O http://download.tensorflow.org/example_images/flower_photos.tgz"
   ]
  },
  {
   "cell_type": "code",
   "execution_count": 0,
   "metadata": {
    "colab": {},
    "colab_type": "code",
    "id": "VO9dLxyoFCxy"
   },
   "outputs": [],
   "source": [
    "!tar xzf flower_photos.tgz"
   ]
  },
  {
   "cell_type": "code",
   "execution_count": 0,
   "metadata": {
    "colab": {},
    "colab_type": "code",
    "id": "Ufr2V32sFLwt"
   },
   "outputs": [],
   "source": [
    "import keras\n",
    "keras.__version__"
   ]
  },
  {
   "cell_type": "code",
   "execution_count": 0,
   "metadata": {
    "colab": {},
    "colab_type": "code",
    "id": "cOhhfcs6FT5_"
   },
   "outputs": [],
   "source": [
    "import os\n",
    "train_dir = \"/root/flower_photos\""
   ]
  },
  {
   "cell_type": "code",
   "execution_count": 0,
   "metadata": {
    "colab": {},
    "colab_type": "code",
    "id": "pw473h0GFX6H"
   },
   "outputs": [],
   "source": [
    "from keras.applications import VGG16\n",
    "\n",
    "conv_base = VGG16(weights='imagenet',\n",
    "                  include_top=False,\n",
    "                  input_shape=(300, 300, 3))"
   ]
  },
  {
   "cell_type": "code",
   "execution_count": 51,
   "metadata": {
    "colab": {
     "base_uri": "https://localhost:8080/",
     "height": 782
    },
    "colab_type": "code",
    "id": "rHsZ1n9ZFbmw",
    "outputId": "069233d0-f7dc-4aa0-f0ac-f95571d5c24a"
   },
   "outputs": [
    {
     "name": "stdout",
     "output_type": "stream",
     "text": [
      "_________________________________________________________________\n",
      "Layer (type)                 Output Shape              Param #   \n",
      "=================================================================\n",
      "input_1 (InputLayer)         (None, 300, 300, 3)       0         \n",
      "_________________________________________________________________\n",
      "block1_conv1 (Conv2D)        (None, 300, 300, 64)      1792      \n",
      "_________________________________________________________________\n",
      "block1_conv2 (Conv2D)        (None, 300, 300, 64)      36928     \n",
      "_________________________________________________________________\n",
      "block1_pool (MaxPooling2D)   (None, 150, 150, 64)      0         \n",
      "_________________________________________________________________\n",
      "block2_conv1 (Conv2D)        (None, 150, 150, 128)     73856     \n",
      "_________________________________________________________________\n",
      "block2_conv2 (Conv2D)        (None, 150, 150, 128)     147584    \n",
      "_________________________________________________________________\n",
      "block2_pool (MaxPooling2D)   (None, 75, 75, 128)       0         \n",
      "_________________________________________________________________\n",
      "block3_conv1 (Conv2D)        (None, 75, 75, 256)       295168    \n",
      "_________________________________________________________________\n",
      "block3_conv2 (Conv2D)        (None, 75, 75, 256)       590080    \n",
      "_________________________________________________________________\n",
      "block3_conv3 (Conv2D)        (None, 75, 75, 256)       590080    \n",
      "_________________________________________________________________\n",
      "block3_pool (MaxPooling2D)   (None, 37, 37, 256)       0         \n",
      "_________________________________________________________________\n",
      "block4_conv1 (Conv2D)        (None, 37, 37, 512)       1180160   \n",
      "_________________________________________________________________\n",
      "block4_conv2 (Conv2D)        (None, 37, 37, 512)       2359808   \n",
      "_________________________________________________________________\n",
      "block4_conv3 (Conv2D)        (None, 37, 37, 512)       2359808   \n",
      "_________________________________________________________________\n",
      "block4_pool (MaxPooling2D)   (None, 18, 18, 512)       0         \n",
      "_________________________________________________________________\n",
      "block5_conv1 (Conv2D)        (None, 18, 18, 512)       2359808   \n",
      "_________________________________________________________________\n",
      "block5_conv2 (Conv2D)        (None, 18, 18, 512)       2359808   \n",
      "_________________________________________________________________\n",
      "block5_conv3 (Conv2D)        (None, 18, 18, 512)       2359808   \n",
      "_________________________________________________________________\n",
      "block5_pool (MaxPooling2D)   (None, 9, 9, 512)         0         \n",
      "=================================================================\n",
      "Total params: 14,714,688\n",
      "Trainable params: 14,714,688\n",
      "Non-trainable params: 0\n",
      "_________________________________________________________________\n"
     ]
    }
   ],
   "source": [
    "conv_base.summary()"
   ]
  },
  {
   "cell_type": "code",
   "execution_count": 0,
   "metadata": {
    "colab": {},
    "colab_type": "code",
    "id": "ow9oqSXIFeLx"
   },
   "outputs": [],
   "source": [
    "from keras import models\n",
    "from keras import layers\n",
    "\n",
    "model = models.Sequential()\n",
    "model.add(conv_base)\n",
    "model.add(layers.Flatten())\n",
    "model.add(layers.Dense(256, activation='relu'))\n",
    "model.add(layers.Dense(5, activation='sigmoid'))"
   ]
  },
  {
   "cell_type": "code",
   "execution_count": 53,
   "metadata": {
    "colab": {
     "base_uri": "https://localhost:8080/",
     "height": 272
    },
    "colab_type": "code",
    "id": "q7_Tjw_OFiLk",
    "outputId": "3f2506a0-9502-4710-8e9f-375a0176601e"
   },
   "outputs": [
    {
     "name": "stdout",
     "output_type": "stream",
     "text": [
      "_________________________________________________________________\n",
      "Layer (type)                 Output Shape              Param #   \n",
      "=================================================================\n",
      "vgg16 (Model)                (None, 9, 9, 512)         14714688  \n",
      "_________________________________________________________________\n",
      "flatten_2 (Flatten)          (None, 41472)             0         \n",
      "_________________________________________________________________\n",
      "dense_3 (Dense)              (None, 256)               10617088  \n",
      "_________________________________________________________________\n",
      "dense_4 (Dense)              (None, 5)                 1285      \n",
      "=================================================================\n",
      "Total params: 25,333,061\n",
      "Trainable params: 25,333,061\n",
      "Non-trainable params: 0\n",
      "_________________________________________________________________\n"
     ]
    }
   ],
   "source": [
    "model.summary()"
   ]
  },
  {
   "cell_type": "code",
   "execution_count": 54,
   "metadata": {
    "colab": {
     "base_uri": "https://localhost:8080/",
     "height": 34
    },
    "colab_type": "code",
    "id": "pAjNkWK0FkXC",
    "outputId": "9d2cf3b4-15c9-4992-ff7a-12d47565515b"
   },
   "outputs": [
    {
     "name": "stdout",
     "output_type": "stream",
     "text": [
      "This is the number of trainable weights before freezing the conv base: 30\n"
     ]
    }
   ],
   "source": [
    "print('This is the number of trainable weights '\n",
    "      'before freezing the conv base:', len(model.trainable_weights))"
   ]
  },
  {
   "cell_type": "code",
   "execution_count": 0,
   "metadata": {
    "colab": {},
    "colab_type": "code",
    "id": "Uy_MJUaWFmov"
   },
   "outputs": [],
   "source": [
    "conv_base.trainable = False"
   ]
  },
  {
   "cell_type": "code",
   "execution_count": 56,
   "metadata": {
    "colab": {
     "base_uri": "https://localhost:8080/",
     "height": 34
    },
    "colab_type": "code",
    "id": "0QFO4y9LFoau",
    "outputId": "4f3b52bf-3988-46e1-a716-4c2e55017aea"
   },
   "outputs": [
    {
     "name": "stdout",
     "output_type": "stream",
     "text": [
      "This is the number of trainable weights after freezing the conv base: 4\n"
     ]
    }
   ],
   "source": [
    "print('This is the number of trainable weights '\n",
    "      'after freezing the conv base:', len(model.trainable_weights))"
   ]
  },
  {
   "cell_type": "code",
   "execution_count": 0,
   "metadata": {
    "colab": {
     "base_uri": "https://localhost:8080/",
     "height": 68
    },
    "colab_type": "code",
    "id": "6_eHeVGVFqyl",
    "outputId": "e5f5f6a0-7c15-49d5-ec2b-7e778d8d9391"
   },
   "outputs": [
    {
     "name": "stdout",
     "output_type": "stream",
     "text": [
      "Found 3670 images belonging to 5 classes.\n",
      "Found 3670 images belonging to 5 classes.\n",
      "Epoch 1/5\n"
     ]
    }
   ],
   "source": [
    "from keras.preprocessing.image import ImageDataGenerator\n",
    "from keras import optimizers\n",
    "\n",
    "train_datagen = ImageDataGenerator(\n",
    "      rescale=1./255,\n",
    "      rotation_range=40,\n",
    "      width_shift_range=0.2,\n",
    "      height_shift_range=0.2,\n",
    "      shear_range=0.2,\n",
    "      zoom_range=0.2,\n",
    "      horizontal_flip=True,\n",
    "      fill_mode='nearest')\n",
    "\n",
    "# Note that the validation data should not be augmented!\n",
    "test_datagen = ImageDataGenerator(rescale=1./255)\n",
    "\n",
    "train_generator = train_datagen.flow_from_directory(\n",
    "        # This is the target directory\n",
    "        train_dir,\n",
    "        # All images will be resized to 150x150\n",
    "        target_size=(300, 300),\n",
    "        batch_size=20,\n",
    "        class_mode='categorical')\n",
    "\n",
    "validation_generator = test_datagen.flow_from_directory(\n",
    "        train_dir,\n",
    "        target_size=(300, 300),\n",
    "        batch_size=20,\n",
    "        class_mode='categorical')\n",
    "\n",
    "model.compile(loss='categorical_crossentropy',\n",
    "              optimizer=optimizers.RMSprop(lr=2e-5),\n",
    "              metrics=['acc'])\n",
    "\n",
    "history = model.fit_generator(\n",
    "      train_generator,\n",
    "      steps_per_epoch=20,\n",
    "      epochs=5,\n",
    "      validation_data=validation_generator,\n",
    "      validation_steps=10,\n",
    "      verbose=2)"
   ]
  },
  {
   "cell_type": "code",
   "execution_count": 0,
   "metadata": {
    "colab": {},
    "colab_type": "code",
    "id": "TGQyYsPgF0_W"
   },
   "outputs": [],
   "source": [
    "from six.moves import urllib\n",
    "source = \"https://storage.googleapis.com/mydeep-bucket/Flowers.zip\"\n",
    "dest = \"Flowers.zip\"\n",
    "urllib.request.urlretrieve(source, dest)"
   ]
  },
  {
   "cell_type": "code",
   "execution_count": 0,
   "metadata": {
    "colab": {},
    "colab_type": "code",
    "id": "gQKrv7BwF48C"
   },
   "outputs": [],
   "source": [
    "ls"
   ]
  },
  {
   "cell_type": "code",
   "execution_count": 0,
   "metadata": {
    "colab": {},
    "colab_type": "code",
    "id": "x40v_aDcF9Zc"
   },
   "outputs": [],
   "source": [
    "from zipfile import ZipFile"
   ]
  },
  {
   "cell_type": "code",
   "execution_count": 0,
   "metadata": {
    "colab": {},
    "colab_type": "code",
    "id": "6PVGD9EkGACL"
   },
   "outputs": [],
   "source": [
    "zip=ZipFile('Flowers.zip')\n",
    "from zipfile import ZipFile\n",
    "zf = ZipFile(r'/root/Flowers.zip', 'r')\n",
    "zf.extractall()\n",
    "zf.close()"
   ]
  },
  {
   "cell_type": "code",
   "execution_count": 0,
   "metadata": {
    "colab": {},
    "colab_type": "code",
    "id": "6sDWY99UGCdS"
   },
   "outputs": [],
   "source": [
    "test_dir='/root/Flowers'"
   ]
  },
  {
   "cell_type": "code",
   "execution_count": 0,
   "metadata": {
    "colab": {},
    "colab_type": "code",
    "id": "8Zi5HuANGFsC"
   },
   "outputs": [],
   "source": [
    "# summarize history for accuracy\n",
    "plt.plot(history.history['acc'])\n",
    "plt.plot(history.history['val_acc'])\n",
    "plt.title('model accuracy')\n",
    "plt.ylabel('accuracy')\n",
    "plt.xlabel('epoch')\n",
    "plt.legend(['train', 'test'], loc='upper left')\n",
    "plt.show()\n",
    "# summarize history for loss\n",
    "plt.plot(history.history['loss'])\n",
    "plt.plot(history.history['val_loss'])\n",
    "plt.title('model loss')\n",
    "plt.ylabel('loss')\n",
    "plt.xlabel('epoch')\n",
    "plt.legend(['train', 'test'], loc='upper left')\n",
    "plt.show()"
   ]
  },
  {
   "cell_type": "code",
   "execution_count": 0,
   "metadata": {
    "colab": {},
    "colab_type": "code",
    "id": "mH2LxjGsGGlq"
   },
   "outputs": [],
   "source": [
    "test_generator = test_datagen.flow_from_directory(\n",
    "        test_dir,\n",
    "        target_size=(150, 150),\n",
    "        batch_size=1,\n",
    "        class_mode='categorical')\n",
    "\n",
    "test_loss, test_acc = model.evaluate_generator(test_generator, steps=1)\n",
    "print('test acc:', test_acc)"
   ]
  },
  {
   "cell_type": "code",
   "execution_count": 0,
   "metadata": {
    "colab": {},
    "colab_type": "code",
    "id": "sYuG5nIsH40N"
   },
   "outputs": [],
   "source": [
    "from PIL import Image\n",
    "import matplotlib.pyplot as plt\n",
    "import numpy as np\n",
    "img = Image.open('Flowers/daisy/daisy1.jpg')\n",
    "img = np.array(img)\n",
    "plt.imshow(img)"
   ]
  }
 ],
 "metadata": {
  "colab": {
   "collapsed_sections": [],
   "name": "Part3.1.ipynb",
   "provenance": [],
   "version": "0.3.2"
  },
  "kernelspec": {
   "display_name": "Python 2",
   "language": "python",
   "name": "python2"
  },
  "language_info": {
   "codemirror_mode": {
    "name": "ipython",
    "version": 2
   },
   "file_extension": ".py",
   "mimetype": "text/x-python",
   "name": "python",
   "nbconvert_exporter": "python",
   "pygments_lexer": "ipython2",
   "version": "2.7.15"
  }
 },
 "nbformat": 4,
 "nbformat_minor": 1
}
